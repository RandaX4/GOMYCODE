{
 "cells": [
  {
   "cell_type": "code",
   "execution_count": null,
   "id": "ff3b2a02",
   "metadata": {},
   "outputs": [],
   "source": [
    "import pandas as pd\n",
    "df=pd.read_csv(\"C:/Users/EXTRA/Downloads/iris.csv\")\n",
    "import numpy as np\n",
    "from sklearn.preprocessing import LabelEncoder\n",
    "from sklearn.model_selection import train_test_split\n",
    "from sklearn import metrics\n",
    "from sklearn.preprocessing import OneHotEncoder\n",
    "\n",
    "x=df[[\"sepal.length\",\"sepal.width\",\"petal.length\",\"petal.width\"]]\n",
    "y=df[\"variety\"]\n",
    "y2=np.array(y).reshape(-1,1)\n",
    "encoder = OneHotEncoder(sparse=False)\n",
    "y1=encoder.fit_transform(y2)\n",
    "x_train,x_test,y_train,y_test = train_test_split(x,y1,test_size=0.20,random_state=40)\n",
    "from keras.models import Sequential\n",
    "from keras.layers import Dense\n",
    "from keras.optimizers import Adam\n",
    "from sklearn.preprocessing import OneHotEncoder\n",
    "from sklearn.datasets import load_iris\n",
    "model = Sequential()\n",
    "model.add(Dense(10,input_dim=4,activation='relu'))\n",
    "model.add(Dense(10,input_dim=10,activation='relu'))\n",
    "model.add(Dense(10,input_dim=10,activation='relu'))\n",
    "model.add(Dense(10,input_dim=10,activation='relu'))\n",
    "model.add(Dense(3,input_dim=10,activation='softmax'))\n",
    "op=Adam(lr=0.005)\n",
    "model.compile(loss=\"categorical_crossentropy\",optimizer=op,metrics=[\"accuracy\"])\n",
    "model.fit(x_train,y_train,epochs=1000,verbose=2,batch_size=20)\n",
    "\n",
    "results = model.evaluate(x_test,y_test)\n",
    "print(results)\n"
   ]
  }
 ],
 "metadata": {
  "kernelspec": {
   "display_name": "Python 3 (ipykernel)",
   "language": "python",
   "name": "python3"
  },
  "language_info": {
   "codemirror_mode": {
    "name": "ipython",
    "version": 3
   },
   "file_extension": ".py",
   "mimetype": "text/x-python",
   "name": "python",
   "nbconvert_exporter": "python",
   "pygments_lexer": "ipython3",
   "version": "3.9.12"
  }
 },
 "nbformat": 4,
 "nbformat_minor": 5
}
