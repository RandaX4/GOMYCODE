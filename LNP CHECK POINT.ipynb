{
 "cells": [
  {
   "cell_type": "code",
   "execution_count": null,
   "id": "e4fc7652",
   "metadata": {},
   "outputs": [],
   "source": [
    "import warnings\n",
    "warnings.filterwarnings(\"ignore\")\n",
    "\n"
   ]
  },
  {
   "cell_type": "code",
   "execution_count": null,
   "id": "9f1dac86",
   "metadata": {},
   "outputs": [],
   "source": [
    "import numpy as np \n",
    "import pandas as pd\n",
    "import matplotlib.pyplot as plt\n",
    "import seaborn as sns\n",
    "from keras.preprocessing.text import Tokenizer\n",
    "from keras.preprocessing.sequence import pad_sequences\n",
    "from keras.models import Sequential\n",
    "from keras.layers import Dense, Embedding, LSTM, SpatialDropout1D\n",
    "from sklearn.model_selection import train_test_split\n",
    "from keras.utils.np_utils import to_categorical\n",
    "from keras.callbacks import EarlyStopping\n",
    "from keras.layers import Dropout\n",
    "import re\n",
    "from nltk.corpus import stopwords\n",
    "from nltk import word_tokenize\n",
    "import nltk\n",
    "nltk.download('stopwords')\n",
    "STOPWORDS = set(stopwords.words('english'))\n",
    "from bs4 import BeautifulSoup\n",
    "import string\n",
    "from wordcloud import WordCloud\n",
    "from sklearn.metrics import confusion_matrix\n",
    "\n"
   ]
  },
  {
   "cell_type": "code",
   "execution_count": null,
   "id": "f63c0b92",
   "metadata": {},
   "outputs": [],
   "source": [
    "data = pd.read_csv('small_complaints.csv', engine='python', encoding='utf-8', error_bad_lines=False, sep=',')"
   ]
  },
  {
   "cell_type": "code",
   "execution_count": null,
   "id": "ce1bf640",
   "metadata": {},
   "outputs": [],
   "source": [
    "data = data[[\"Product\",\"Consumer complaint narrative\"]]"
   ]
  },
  {
   "cell_type": "code",
   "execution_count": null,
   "id": "28a750ad",
   "metadata": {},
   "outputs": [],
   "source": [
    "data.head()"
   ]
  },
  {
   "cell_type": "code",
   "execution_count": null,
   "id": "d88e8365",
   "metadata": {},
   "outputs": [],
   "source": [
    "data.Product.value_counts()"
   ]
  },
  {
   "cell_type": "code",
   "execution_count": null,
   "id": "1f886709",
   "metadata": {},
   "outputs": [],
   "source": [
    "sns.heatmap(data.isnull())"
   ]
  },
  {
   "cell_type": "code",
   "execution_count": null,
   "id": "2175cf66",
   "metadata": {},
   "outputs": [],
   "source": [
    "data.loc[data['Product'] == 'Credit reporting', 'Product'] = 'Credit reporting, credit repair services, or other personal consumer reports'\n",
    "data.loc[data['Product'] == 'Credit card', 'Product'] = 'Credit card or prepaid card'\n",
    "data.loc[data['Product'] == 'Payday loan', 'Product'] = 'Payday loan, title loan, or personal loan'\n",
    "data.loc[data['Product'] == 'Virtual currency', 'Product'] = 'Money transfer, virtual currency, or money service'\n"
   ]
  },
  {
   "cell_type": "code",
   "execution_count": null,
   "id": "d71b52c5",
   "metadata": {},
   "outputs": [],
   "source": [
    "data.loc[data['Product'] == Prepaid card, Consumer Loan & Bank account or service,'Product'] =  \"Other financial service\"\n",
    "\n",
    "\n",
    "data = data[data.Product != \"Other financial service\"]\n",
    "\n"
   ]
  },
  {
   "cell_type": "code",
   "execution_count": null,
   "id": "79278b14",
   "metadata": {},
   "outputs": [],
   "source": [
    "data = data.reset_index(drop=True)"
   ]
  },
  {
   "cell_type": "code",
   "execution_count": null,
   "id": "b7361e3b",
   "metadata": {},
   "outputs": [],
   "source": [
    "# Data to plot\n",
    "labels = list(data.Product.value_counts().index)\n",
    "sizes = list(data.Product.value_counts().values)\n",
    "colors = ['gold','yellowgreen', 'lightskyblue', 'lightcoral', 'red', 'purple', '#f280de', 'orange', 'green']\n",
    "explode = (0.1, 0, 0, 0,0,0,0,0,0)  # explode 1st slice\n",
    "\n",
    "# Plot\n",
    "plt.figure(figsize=(10,10))\n",
    "plt.pie(sizes, explode=explode, labels=labels, colors=colors,\n",
    "autopct='%1.1f%%', shadow=True, startangle=140, wedgeprops={\"edgecolor\":\"white\"})\n",
    "plt.axis('equal')\n",
    "plt.show()"
   ]
  },
  {
   "cell_type": "code",
   "execution_count": null,
   "id": "d763ac7f",
   "metadata": {},
   "outputs": [],
   "source": [
    "def complaint_product(indx,data):\n",
    "  complaint = data['Consumer complaint narrative'][indx]\n",
    "  product = data['Product'][indx]\n",
    "  print(complaint)\n",
    "  print('------------------------------')\n",
    "  print(\"Product : \",product)"
   ]
  },
  {
   "cell_type": "code",
   "execution_count": null,
   "id": "06d1f04e",
   "metadata": {},
   "outputs": [],
   "source": [
    "complaint_product(238, data)"
   ]
  },
  {
   "cell_type": "code",
   "execution_count": null,
   "id": "c24029fa",
   "metadata": {},
   "outputs": [],
   "source": [
    "def clean_text(text):\n",
    "    '''Make text lowercase, remove text in square brackets, remove punctuation, remove words containing numbers, remove stop words and Xs.'''\n",
    "    text = text.lower()\n",
    "    text = re.sub('\\[.*?\\]', '', text)\n",
    "    text = re.sub('[%s]' % re.escape(string.punctuation), '', text)\n",
    "    text = re.sub('\\w*\\d\\w*', '', text)\n",
    "    text = re.sub('\\n', '', text)\n",
    "    text = text.replace('x', '')\n",
    "    text = ' '.join(word for word in text.split() if word not in STOPWORDS)\n",
    "    return text"
   ]
  },
  {
   "cell_type": "code",
   "execution_count": null,
   "id": "e89d685b",
   "metadata": {},
   "outputs": [],
   "source": [
    "data['Consumer complaint narrative'] = clean_text(data['Consumer complaint narrative'])"
   ]
  },
  {
   "cell_type": "code",
   "execution_count": null,
   "id": "1b698076",
   "metadata": {},
   "outputs": [],
   "source": [
    "text = \" \".join(complaint for complaint in data[\"Consumer complaint narrative\"])\n",
    "# Generate a word cloud image\n",
    "\n",
    "wordcloud = WordCloud(width = 1200, height = 500, \n",
    "                background_color ='white', \n",
    "                stopwords = STOPWORDS, \n",
    "                min_font_size = 10).generate(text) \n",
    "  \n",
    "# plot the WordCloud image                        \n",
    "plt.figure(figsize = (8, 8), facecolor = None) \n",
    "plt.imshow(wordcloud) \n",
    "plt.axis(\"off\") \n",
    "plt.tight_layout(pad = 0) \n",
    "  \n",
    "plt.show() "
   ]
  },
  {
   "cell_type": "code",
   "execution_count": null,
   "id": "c2350559",
   "metadata": {},
   "outputs": [],
   "source": [
    "number_words = [len(complaints.split(' ')) for complaints in data[\"Consumer complaint narrative\"]]"
   ]
  },
  {
   "cell_type": "code",
   "execution_count": null,
   "id": "bc84f25a",
   "metadata": {},
   "outputs": [],
   "source": [
    "# fixed bin size\n",
    "bins = np.arange(-0, 3000, 10) # fixed bin size\n",
    "\n",
    "plt.xlim([0, 500])\n",
    "\n",
    "plt.hist(number_words, bins=bins, alpha=0.5)\n",
    "plt.title('number of words in complainrs')\n",
    "plt.ylabel('count')\n",
    "\n",
    "plt.show()"
   ]
  },
  {
   "cell_type": "code",
   "execution_count": null,
   "id": "55abb42e",
   "metadata": {},
   "outputs": [],
   "source": [
    "\n",
    "MAX_NB_WORDS = 50000\n",
    "# Max number of words in each complaint.\n",
    "MAX_SEQUENCE_LENGTH = 250\n",
    "# This is fixed.\n",
    "EMBEDDING_DIM = 100\n",
    "\n",
    "tokenizer = Tokenizer(num_words=MAX_NB_WORDS)\n",
    "tokenizer.fit_on_texts(data['Consumer complaint narrative'].values)\n",
    "word_index = tokenizer.word_index\n",
    "print('Found %s unique tokens.' % len(word_index))"
   ]
  },
  {
   "cell_type": "code",
   "execution_count": null,
   "id": "77f68509",
   "metadata": {},
   "outputs": [],
   "source": [
    "X = tokenizer.texts_to_sequences(data['Consumer complaint narrative'].values)#list of integers\n",
    "X = pad_sequences(X, maxlen=MAX_SEQUENCE_LENGTH) #padding\n",
    "print('Shape of data tensor:', X.shape)"
   ]
  },
  {
   "cell_type": "code",
   "execution_count": null,
   "id": "64c81c0a",
   "metadata": {},
   "outputs": [],
   "source": [
    "labels = list(pd.get_dummies(data['Product']).columns)\n",
    "Y = pd.get_dummies(data['Product']).values\n",
    "print('Shape of label tensor:', Y.shape)"
   ]
  },
  {
   "cell_type": "code",
   "execution_count": null,
   "id": "2a8af851",
   "metadata": {},
   "outputs": [],
   "source": [
    "X_train, X_test, Y_train, Y_test = train_test_split(X,Y,test_size=0.25, random_state=10)\n",
    "print(X_train.shape,Y_train.shape)\n",
    "print(X_test.shape,Y_test.shape)"
   ]
  },
  {
   "cell_type": "code",
   "execution_count": null,
   "id": "1fd0bf94",
   "metadata": {},
   "outputs": [],
   "source": [
    "model = Sequential()\n",
    "model.add(Embedding(MAX_NB_WORDS, EMBEDDING_DIM, input_length=X.shape[1]))\n",
    "model.add(SpatialDropout1D(0.2))\n",
    "model.add(LSTM(100, dropout=0.2, recurrent_dropout=0.2))\n",
    "model.add(Dense(32, activation='softmax'))\n",
    "model.compile(loss=categorical_crossentropy, optimizer='adam', metrics=['accuracy'])\n",
    "print(model.summary())"
   ]
  },
  {
   "cell_type": "code",
   "execution_count": null,
   "id": "509015bc",
   "metadata": {},
   "outputs": [],
   "source": [
    "epochs = 5\n",
    "batch_size = 64\n",
    "# Code Here\n",
    "history = model.fit(X_train, Y_train, epochs=epochs, batch_size=batch_size,validation_split=0.1,callbacks=[EarlyStopping(monitor='val_loss', patience=3, min_delta=0.0001)])"
   ]
  },
  {
   "cell_type": "code",
   "execution_count": null,
   "id": "f1b5993e",
   "metadata": {},
   "outputs": [],
   "source": [
    "Y_pred = model.predict(X_test)"
   ]
  },
  {
   "cell_type": "code",
   "execution_count": null,
   "id": "21aac09a",
   "metadata": {},
   "outputs": [],
   "source": [
    "predicted_classes = np.argmax(Y_pred, axis=1)"
   ]
  },
  {
   "cell_type": "code",
   "execution_count": null,
   "id": "32447ff6",
   "metadata": {},
   "outputs": [],
   "source": [
    "cm = confusion_matrix(expected_classes, predicted_classes)\n",
    "plt.figure(figsize=(18,8))\n",
    "sns.set(font_scale=1.4) \n",
    "sns.heatmap(cm, annot=True, annot_kws={\"size\": 16}, fmt='d',linewidths=0.5, xticklabels=labels, yticklabels=labels) \n",
    "plt.xlabel('Predicted')\n",
    "plt.ylabel('True')\n",
    "plt.show()"
   ]
  },
  {
   "cell_type": "code",
   "execution_count": null,
   "id": "e3125d63",
   "metadata": {},
   "outputs": [],
   "source": []
  }
 ],
 "metadata": {
  "kernelspec": {
   "display_name": "Python 3 (ipykernel)",
   "language": "python",
   "name": "python3"
  },
  "language_info": {
   "codemirror_mode": {
    "name": "ipython",
    "version": 3
   },
   "file_extension": ".py",
   "mimetype": "text/x-python",
   "name": "python",
   "nbconvert_exporter": "python",
   "pygments_lexer": "ipython3",
   "version": "3.9.12"
  }
 },
 "nbformat": 4,
 "nbformat_minor": 5
}
