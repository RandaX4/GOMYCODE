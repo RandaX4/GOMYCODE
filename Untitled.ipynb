{
 "cells": [
  {
   "cell_type": "code",
   "execution_count": null,
   "id": "da97b10f",
   "metadata": {},
   "outputs": [],
   "source": [
    "#QUESTION 1\n",
    "\n",
    "n=input(\"saisir un nombre=\")\n",
    "nn= n + n \n",
    "nnn= n + n + n\n",
    "res= int(n)+int(nn)+int(nnn)\n",
    "print(res)"
   ]
  },
  {
   "cell_type": "code",
   "execution_count": null,
   "id": "319fc7c0",
   "metadata": {},
   "outputs": [],
   "source": [
    "# question 2\n",
    "\n",
    "n=int(input(\"saisir un nombre=\"))\n",
    "if n%2==0:\n",
    "   print(n,\"even\")\n",
    "else:\n",
    "    print(n,\"odd\")\n"
   ]
  },
  {
   "cell_type": "code",
   "execution_count": null,
   "id": "5826b54f",
   "metadata": {},
   "outputs": [],
   "source": [
    "# question 3\n",
    "\n",
    "res=[]\n",
    "for i in range(2000,3201):\n",
    "   if i%7==0 and i%5!=0\n",
    "   res=res+\"\"+str(i)\n",
    "print(res)"
   ]
  },
  {
   "cell_type": "code",
   "execution_count": null,
   "id": "0df32fdd",
   "metadata": {},
   "outputs": [],
   "source": [
    "#QUESTION4\n",
    "\n",
    "num=int(input(\"saisir un nombre\"))\n",
    "i=1\n",
    "b=1\n",
    "while i<=num\n",
    "b=i*b\n",
    "i=i+1"
   ]
  },
  {
   "cell_type": "code",
   "execution_count": null,
   "id": "fcdb30ae",
   "metadata": {},
   "outputs": [],
   "source": [
    "#question5\n",
    "\n",
    "string=input(\"string\")\n",
    "res=\"\n",
    "for i in range(len(str))\"\n",
    "   if i%2==0:\n",
    "        res=res+string[i]"
   ]
  }
 ],
 "metadata": {
  "kernelspec": {
   "display_name": "Python 3 (ipykernel)",
   "language": "python",
   "name": "python3"
  },
  "language_info": {
   "codemirror_mode": {
    "name": "ipython",
    "version": 3
   },
   "file_extension": ".py",
   "mimetype": "text/x-python",
   "name": "python",
   "nbconvert_exporter": "python",
   "pygments_lexer": "ipython3",
   "version": "3.9.12"
  }
 },
 "nbformat": 4,
 "nbformat_minor": 5
}
