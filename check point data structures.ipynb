{
 "cells": [
  {
   "cell_type": "code",
   "execution_count": null,
   "id": "bbce9625",
   "metadata": {},
   "outputs": [],
   "source": [
    "# QUESTION1 \n",
    "list=[]\n",
    "a=1\n",
    "for i in list:\n",
    "   a=a*i\n",
    "print(a)"
   ]
  },
  {
   "cell_type": "code",
   "execution_count": null,
   "id": "44bfb20a",
   "metadata": {},
   "outputs": [],
   "source": [
    "# QUESTION 2\n",
    "d1={'a':100, 'b':200, 'c':300}\n",
    "d2={'a:300,'b':200, 'd':400'}\n",
    "d3=dic(d1)\n",
    "d3.update(d2)\n",
    "for i,j in d1.items:\n",
    "   for x,y in d2.items:\n",
    "      if i==x\n",
    "      d3[i]=(j+y)\n",
    "print(d3)\n",
    "    \n"
   ]
  },
  {
   "cell_type": "code",
   "execution_count": null,
   "id": "9c9e3a45",
   "metadata": {},
   "outputs": [],
   "source": [
    "# QUESTION3\n",
    "n=int(input\"enter a number\")\n",
    "dic={}\n",
    "for i in range(1,n+1):\n",
    "   dic[i]=i*i\n",
    "print(dic)"
   ]
  }
 ],
 "metadata": {
  "kernelspec": {
   "display_name": "Python 3 (ipykernel)",
   "language": "python",
   "name": "python3"
  },
  "language_info": {
   "codemirror_mode": {
    "name": "ipython",
    "version": 3
   },
   "file_extension": ".py",
   "mimetype": "text/x-python",
   "name": "python",
   "nbconvert_exporter": "python",
   "pygments_lexer": "ipython3",
   "version": "3.9.12"
  }
 },
 "nbformat": 4,
 "nbformat_minor": 5
}
