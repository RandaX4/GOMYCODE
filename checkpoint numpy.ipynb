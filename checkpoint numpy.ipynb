{
 "cells": [
  {
   "cell_type": "code",
   "execution_count": null,
   "id": "9338d495",
   "metadata": {},
   "outputs": [],
   "source": [
    "# QUESTION 1\n",
    "import numpy as np\n",
    "a=np.array([1,2,4,9,8])\n",
    "list=[]\n",
    "for i in range(len(a):\n",
    "   list.append(a[i])\n",
    "print(list)\n"
   ]
  },
  {
   "cell_type": "code",
   "execution_count": null,
   "id": "426fbe5a",
   "metadata": {},
   "outputs": [],
   "source": []
  },
  {
   "cell_type": "code",
   "execution_count": null,
   "id": "deeef93e",
   "metadata": {},
   "outputs": [],
   "source": [
    "# QUESTION 2\n",
    "import numpy as np\n",
    "a=np.array([[1,2,3,4],[5,6,7,8],[9,10,11,12]])\n",
    "def add():\n",
    "    x=o\n",
    "    for i in range(a.shape[0]):\n",
    "        b+=a[i][i]\n",
    "        return b\n",
    "add(a)\n",
    "    "
   ]
  },
  {
   "cell_type": "code",
   "execution_count": null,
   "id": "f9872bcc",
   "metadata": {},
   "outputs": [],
   "source": [
    "# question 3\n",
    "import numpy as np\n",
    "a=np.array([[1,2],[3,5]])\n",
    "x=2\n",
    "print(a[a>x])\n"
   ]
  },
  {
   "cell_type": "code",
   "execution_count": null,
   "id": "32d34394",
   "metadata": {},
   "outputs": [],
   "source": [
    "# QUESTION 4\n",
    "import numpy as np\n",
    "array1=np.array([[1,2,3],[4,5,6],[1,5,3]])\n",
    "array2=np.array([[5,6,4],[1,5,9],[1,2,3]])\n",
    "array3=np.add(array1, array2)\n",
    "print(array3)\n"
   ]
  }
 ],
 "metadata": {
  "kernelspec": {
   "display_name": "Python 3 (ipykernel)",
   "language": "python",
   "name": "python3"
  },
  "language_info": {
   "codemirror_mode": {
    "name": "ipython",
    "version": 3
   },
   "file_extension": ".py",
   "mimetype": "text/x-python",
   "name": "python",
   "nbconvert_exporter": "python",
   "pygments_lexer": "ipython3",
   "version": "3.9.12"
  }
 },
 "nbformat": 4,
 "nbformat_minor": 5
}
