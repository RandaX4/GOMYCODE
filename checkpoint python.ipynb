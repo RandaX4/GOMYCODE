{
 "cells": [
  {
   "cell_type": "code",
   "execution_count": null,
   "id": "115e1c0b",
   "metadata": {},
   "outputs": [],
   "source": [
    "#question 1\n",
    "for i in range(-10,0):\n",
    "   print(i)\n",
    "    "
   ]
  },
  {
   "cell_type": "code",
   "execution_count": null,
   "id": "e9ec2e76",
   "metadata": {},
   "outputs": [],
   "source": [
    "#question 2\n",
    "n=input(\"put a number= \")\n",
    "print(\"total digits= \",len(n))"
   ]
  },
  {
   "cell_type": "code",
   "execution_count": null,
   "id": "93dd61b6",
   "metadata": {},
   "outputs": [],
   "source": [
    "#question 3\n",
    "def cube(n):\n",
    "   return n**3\n",
    "print(cube(n))\n"
   ]
  },
  {
   "cell_type": "code",
   "execution_count": null,
   "id": "407a5547",
   "metadata": {},
   "outputs": [],
   "source": [
    "#question 4\n",
    "def prod_ou_somme(a,b):\n",
    "   p=a*b\n",
    "   s=a+b\n",
    "   return s if p>100 else p\n",
    "print(prod_ou_somme(a,b))"
   ]
  },
  {
   "cell_type": "code",
   "execution_count": null,
   "id": "36475ef1",
   "metadata": {},
   "outputs": [],
   "source": [
    "#question 5\n",
    "l=[3,4,5,6,9,3]\n",
    "if l[0]==[-1]:\n",
    "    print(true)\n",
    "else:\n",
    "    print(false)\n"
   ]
  },
  {
   "cell_type": "code",
   "execution_count": null,
   "id": "dccc17b6",
   "metadata": {},
   "outputs": [],
   "source": [
    "#question 6\n",
    "c=[]\n",
    "l1=[12,63,45,25,14]\n",
    "l2=[23,16,14,25,1,3]\n",
    "for in l1:\n",
    "    if i%2!=0\n",
    "    c.append(i)\n",
    "for i in l2:\n",
    "    if i%2==2\n",
    "    c.append(i)\n",
    "print(c)\n"
   ]
  },
  {
   "cell_type": "code",
   "execution_count": null,
   "id": "d56b5429",
   "metadata": {},
   "outputs": [],
   "source": [
    "#question 7\n",
    "liste=[11, 45, 8, 11, 23, 45, 23, 45, 89]\n",
    "def occ(liste):\n",
    "    dic={}\n",
    "    for i in range(len(liste)):\n",
    "        dic[liste[i]]=liste.count(liste[i])\n",
    "    print(dic)\n",
    "occu(liste)\n"
   ]
  },
  {
   "cell_type": "code",
   "execution_count": null,
   "id": "f2d9d115",
   "metadata": {},
   "outputs": [],
   "source": [
    "#question 8\n",
    "\n",
    "s1={1,2,6,3,7,8}\n",
    "s2={2,3,5,9,8]\n",
    "def intersection(s1,s2):\n",
    "   s3=s1.intersection(s2)\n",
    "   for i in s3:\n",
    "      s1.remove(i)\n",
    "print(s3)\n",
    "print(s1)"
   ]
  }
 ],
 "metadata": {
  "kernelspec": {
   "display_name": "Python 3 (ipykernel)",
   "language": "python",
   "name": "python3"
  },
  "language_info": {
   "codemirror_mode": {
    "name": "ipython",
    "version": 3
   },
   "file_extension": ".py",
   "mimetype": "text/x-python",
   "name": "python",
   "nbconvert_exporter": "python",
   "pygments_lexer": "ipython3",
   "version": "3.9.12"
  }
 },
 "nbformat": 4,
 "nbformat_minor": 5
}
