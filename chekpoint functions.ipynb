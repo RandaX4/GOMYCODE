{
 "cells": [
  {
   "cell_type": "code",
   "execution_count": null,
   "id": "0e6f7a23",
   "metadata": {},
   "outputs": [],
   "source": [
    "#QUESTION1\n",
    "\n",
    "def max(a,b,c):\n",
    "    if a>b and a>c\n",
    "       return(a)\n",
    "    elif b>a and b>c\n",
    "       return(b)\n",
    "    else:\n",
    "       return(c)\n",
    "print(max(a,b,c))\n",
    "\n"
   ]
  },
  {
   "cell_type": "code",
   "execution_count": null,
   "id": "c1821181",
   "metadata": {},
   "outputs": [],
   "source": [
    "#QUESTION 2\n",
    "def calculation(a,b):\n",
    "   add=a+b\n",
    "   return(add)\n",
    "   sub=a-b\n",
    "   return(sub)\n",
    "print(caculation(a,b))\n"
   ]
  },
  {
   "cell_type": "code",
   "execution_count": null,
   "id": "c11c027f",
   "metadata": {},
   "outputs": [],
   "source": [
    "#QUESTION 3\n",
    "def sum(list1):\n",
    "    n=0\n",
    "    for i in liste1\n",
    "       s+=n\n",
    "       return(s)\n",
    "print(sum(liste1))\n",
    "def mult(liste2)\n",
    "   s=1\n",
    "   for i in liste2\n",
    "      s*=i\n",
    "      retur(s)\n",
    "print(mult(liste2))\n",
    "liste3=liste1.extend liste2\n",
    "   for i in liste3\n",
    "      if i%2==0\n",
    "         s=1\n",
    "         s+=i\n",
    "         print(s)\n",
    "   else:\n",
    "      s=1   \n",
    "      s*=i\n",
    "      print(s)\n",
    "print(liste3)"
   ]
  },
  {
   "cell_type": "code",
   "execution_count": null,
   "id": "09d5e562",
   "metadata": {},
   "outputs": [],
   "source": [
    "# QUESTION 4\n",
    "n=input(\"saisir une sequence de mots: \")\n",
    "a=n.split()\n",
    "a.sort()\n",
    "print(a)"
   ]
  }
 ],
 "metadata": {
  "kernelspec": {
   "display_name": "Python 3 (ipykernel)",
   "language": "python",
   "name": "python3"
  },
  "language_info": {
   "codemirror_mode": {
    "name": "ipython",
    "version": 3
   },
   "file_extension": ".py",
   "mimetype": "text/x-python",
   "name": "python",
   "nbconvert_exporter": "python",
   "pygments_lexer": "ipython3",
   "version": "3.9.12"
  }
 },
 "nbformat": 4,
 "nbformat_minor": 5
}
