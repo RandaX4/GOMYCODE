{
 "cells": [
  {
   "cell_type": "code",
   "execution_count": 3,
   "id": "aabf5766",
   "metadata": {},
   "outputs": [
    {
     "data": {
      "text/plain": [
       "'What is Python language?                                                \\nPython is a widely used high-level, general-purpose, interpreted, dynamic programming language.Its design philosophy emphasizes code readability, and its syntax allows programmers to express concepts in fewer lines of code than possible in \\nlanguages such as C++ or Java. \\nPython supports multiple programming paradigms, including object-oriented, imperative and functional programming or procedural styles. It features a dynamic type system and automatic memory management and has a large and comprehensive standard library.The best way we learn anything is by practice and exercise questions. We  have started this section for those (beginner to intermediate) who are familiar with Python.'"
      ]
     },
     "execution_count": 3,
     "metadata": {},
     "output_type": "execute_result"
    }
   ],
   "source": [
    "#QUESTION 1\n",
    "f=open(\"python.txt\",\"r\",encoding ='utf-8')\n",
    "f.read()"
   ]
  },
  {
   "cell_type": "code",
   "execution_count": null,
   "id": "23e5e3d1",
   "metadata": {},
   "outputs": [],
   "source": [
    "# question 2\n",
    "f=open(\"python.txt\",\"r\",encoding ='utf-8')\n",
    "lines=f.readlines()\n",
    "n=int(input(\"put a number \"))\n",
    "for i in range(len(lines)             \n",
    "   print(line[i]) \n",
    "               \n"
   ]
  },
  {
   "cell_type": "code",
   "execution_count": null,
   "id": "c91a8752",
   "metadata": {},
   "outputs": [],
   "source": [
    "# question 3\n",
    "f=open(\"python.txt\",\"r\",encoding ='utf-8')\n",
    "lines=f.readlines()\n",
    "n=int(input(\"put a number \"))\n",
    "for i in range (len(line)-n,len(lines)):\n",
    "   print(lines[i])\n"
   ]
  },
  {
   "cell_type": "code",
   "execution_count": null,
   "id": "d89f45f5",
   "metadata": {},
   "outputs": [],
   "source": [
    "# question 4\n",
    "with open(\"python.txt\",r, encoding='utf-8') as f\n",
    "   lines=f.read() \n",
    "   words=lines.split()\n",
    "   print(len(word)\n",
    "    "
   ]
  }
 ],
 "metadata": {
  "kernelspec": {
   "display_name": "Python 3 (ipykernel)",
   "language": "python",
   "name": "python3"
  },
  "language_info": {
   "codemirror_mode": {
    "name": "ipython",
    "version": 3
   },
   "file_extension": ".py",
   "mimetype": "text/x-python",
   "name": "python",
   "nbconvert_exporter": "python",
   "pygments_lexer": "ipython3",
   "version": "3.9.12"
  }
 },
 "nbformat": 4,
 "nbformat_minor": 5
}
