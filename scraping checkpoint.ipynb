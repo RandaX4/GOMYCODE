{
 "cells": [
  {
   "cell_type": "code",
   "execution_count": null,
   "id": "9cd57e8a",
   "metadata": {},
   "outputs": [],
   "source": [
    "import requests\n",
    "from bs4 import BeautifulSoup\n",
    "import string"
   ]
  },
  {
   "cell_type": "code",
   "execution_count": null,
   "id": "fdbc8338",
   "metadata": {},
   "outputs": [],
   "source": [
    "#Q1\n",
    "\n",
    "enter_search = input(\"Votre recherche:\")\n",
    "u_i = string.capwords(enter_search)\n",
    "lists = u_i.split()\n",
    "word =\"_\".join(lists)\n",
    "link = \"https://en.wikipedia.org/wiki/\"+word"
   ]
  },
  {
   "cell_type": "code",
   "execution_count": null,
   "id": "fe266e2f",
   "metadata": {},
   "outputs": [],
   "source": [
    "#Q2\n",
    "\n",
    "def getdata(link):\n",
    "    page = requests.get(link)\n",
    "    soup = BeautifulSoup(page.content,'html.parser')\n",
    "    return soup\n",
    "print(getdata(link))\n"
   ]
  },
  {
   "cell_type": "code",
   "execution_count": null,
   "id": "462212d2",
   "metadata": {},
   "outputs": [],
   "source": [
    "#Q3\n",
    "\n",
    "def gettitle(soup):\n",
    "    title=soup.title\n",
    "    return title\n",
    "gettitle(getdata(link))\n"
   ]
  },
  {
   "cell_type": "code",
   "execution_count": null,
   "id": "159b0311",
   "metadata": {},
   "outputs": [],
   "source": [
    "#Q4\n",
    "\n",
    "def getpara(soupe):\n",
    "    for para in soupe.find_all('p'):\n",
    "        print(para.get_text())\n",
    "    return para \n",
    "getpara(getdata(link))   \n"
   ]
  },
  {
   "cell_type": "code",
   "execution_count": null,
   "id": "64fc7e78",
   "metadata": {},
   "outputs": [],
   "source": [
    "#Q5\n",
    "\n",
    "def getlink(soupe):\n",
    "    for link in soupe.find_all('a'):\n",
    "        print(link.get('href'))\n",
    "    return link \n",
    "getlink(getdata(link))   \n"
   ]
  },
  {
   "cell_type": "code",
   "execution_count": null,
   "id": "5074d037",
   "metadata": {},
   "outputs": [],
   "source": [
    "#Q6\n",
    "\n",
    "def scraping(link):\n",
    "    getdata(link)\n",
    "    print(\"title is : \", gettitle(getdata(link)).string)\n",
    "    print(getpara(getdata(link)))\n",
    "    print(getlink(getdata(link)))\n",
    "\n",
    "scraping(link)\n"
   ]
  }
 ],
 "metadata": {
  "kernelspec": {
   "display_name": "Python 3 (ipykernel)",
   "language": "python",
   "name": "python3"
  },
  "language_info": {
   "codemirror_mode": {
    "name": "ipython",
    "version": 3
   },
   "file_extension": ".py",
   "mimetype": "text/x-python",
   "name": "python",
   "nbconvert_exporter": "python",
   "pygments_lexer": "ipython3",
   "version": "3.9.12"
  }
 },
 "nbformat": 4,
 "nbformat_minor": 5
}
